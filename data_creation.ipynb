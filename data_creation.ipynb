{
 "cells": [
  {
   "cell_type": "code",
   "execution_count": 2,
   "id": "3e4c87e0",
   "metadata": {},
   "outputs": [],
   "source": [
    "import pandas as pd\n",
    "from tqdm import tqdm\n",
    "import csv\n",
    "import random\n",
    "import string\n",
    "from pyspark.sql import SparkSession\n",
    "from pyspark.sql.functions import *"
   ]
  },
  {
   "cell_type": "markdown",
   "id": "700deded",
   "metadata": {},
   "source": [
    "### **** RUN THESE CELLS IF YOU WANT TO GENERATE DATA ****\n",
    "\n",
    "Download the data [here (Google Drive)](https://drive.google.com/file/d/1kCXnIeoPT6p9kS_ANJ0mmpxlfDwK1yio/view?usp=sharing&source=post_page-----242445b24565--------------------------------)\n",
    "\n",
    "Code Starts [here](#Lab)"
   ]
  },
  {
   "cell_type": "code",
   "execution_count": 2,
   "id": "c4d699d4",
   "metadata": {},
   "outputs": [
    {
     "name": "stdout",
     "output_type": "stream",
     "text": [
      "Products between 1 and 75000000\n"
     ]
    }
   ],
   "source": [
    "random.seed(1999)\n",
    "\n",
    "letters = string.ascii_lowercase\n",
    "letters_upper = string.ascii_uppercase\n",
    "for _i in range(0, 10):\n",
    "    letters += letters\n",
    "\n",
    "for _i in range(0, 10):\n",
    "    letters += letters_upper\n",
    "\n",
    "\n",
    "def random_string(stringLength=10):\n",
    "    \"\"\"Generate a random string of fixed length \"\"\"\n",
    "    return ''.join(random.sample(letters, stringLength))\n",
    "\n",
    "\n",
    "print(\"Products between {} and {}\".format(1, 75000000))\n",
    "product_ids = [x for x in range(1, 75000000)]\n",
    "dates = ['2020-07-01', '2020-07-02', '2020-07-03', '2020-07-04', '2020-07-05', '2020-07-06', '2020-07-07', '2020-07-08',\n",
    "         '2020-07-09', '2020-07-10']\n",
    "seller_ids = [x for x in range(1, 10)]"
   ]
  },
  {
   "cell_type": "code",
   "execution_count": 3,
   "id": "94adf126",
   "metadata": {},
   "outputs": [
    {
     "name": "stderr",
     "output_type": "stream",
     "text": [
      "100%|███████████████████████████████████████████████████████████████████| 74999999/74999999 [32:56<00:00, 37943.56it/s]\n"
     ]
    },
    {
     "name": "stdout",
     "output_type": "stream",
     "text": [
      "df for products created\n",
      "products.csv saved\n",
      "df deleted\n",
      "product list deleted\n"
     ]
    }
   ],
   "source": [
    "# Generate products\n",
    "products = [[0, \"product_0\", 22]]\n",
    "for p in tqdm(product_ids, miniters=int(223265/100)):\n",
    "    products.append([p, \"product_{}\".format(p), random.randint(1, 150)])\n",
    "\n",
    "#   Save dataframe\n",
    "df = pd.DataFrame(products)\n",
    "print(\"df for products created\")\n",
    "df.columns = [\"product_id\", \"product_name\", \"price\"]\n",
    "df.to_csv(\"products.csv\", index=False)\n",
    "print(\"products.csv saved\")\n",
    "del df\n",
    "print(\"df deleted\")\n",
    "del products\n",
    "print(\"product list deleted\")"
   ]
  },
  {
   "cell_type": "code",
   "execution_count": 4,
   "id": "4197ea50",
   "metadata": {},
   "outputs": [
    {
     "name": "stderr",
     "output_type": "stream",
     "text": [
      "100%|████████████████████████████████████████████████████████████████████████████████████████████| 9/9 [00:00<?, ?it/s]"
     ]
    },
    {
     "name": "stdout",
     "output_type": "stream",
     "text": [
      "df for sellers created\n",
      "sellers.csv saved\n"
     ]
    },
    {
     "name": "stderr",
     "output_type": "stream",
     "text": [
      "\n"
     ]
    }
   ],
   "source": [
    "#   Generate sellers\n",
    "sellers = [[0, \"seller_0\", 2500000]]\n",
    "for s in tqdm(seller_ids, miniters=int(223265/100)):\n",
    "    sellers.append([s, \"seller_{}\".format(s), random.randint(12000, 2000000)])\n",
    "#   Save dataframe\n",
    "df = pd.DataFrame(sellers)\n",
    "print(\"df for sellers created\")\n",
    "df.columns = [\"seller_id\", \"seller_name\", \"daily_target\"]\n",
    "df.to_csv(\"sellers.csv\", index=False)\n",
    "print(\"sellers.csv saved\")\n",
    "\n",
    "#   Generate sales\n",
    "total_rows = 500000\n",
    "prod_zero = int(total_rows * 0.95)\n",
    "prod_others = total_rows - prod_zero + 1\n",
    "df_array = [[\"order_id\", \"product_id\", \"seller_id\", \"date\", \"num_pieces_sold\", \"bill_raw_text\"]]\n",
    "with open('sales.csv', 'w', newline='') as f:\n",
    "    csvwriter = csv.writer(f)\n",
    "    csvwriter.writerows(df_array)"
   ]
  },
  {
   "cell_type": "code",
   "execution_count": 5,
   "id": "276c9ac5",
   "metadata": {},
   "outputs": [
    {
     "name": "stderr",
     "output_type": "stream",
     "text": [
      "100%|███████████████████████████████████████████████████████████████████████████████| 40/40 [3:18:10<00:00, 297.26s/it]"
     ]
    },
    {
     "name": "stdout",
     "output_type": "stream",
     "text": [
      "Done\n"
     ]
    },
    {
     "name": "stderr",
     "output_type": "stream",
     "text": [
      "\n"
     ]
    }
   ],
   "source": [
    "order_id = 0\n",
    "for i in tqdm(range(0, 40), miniters=int(223265/100)):\n",
    "    df_array = []\n",
    "\n",
    "    \n",
    "    for i in range(0, prod_zero):\n",
    "        order_id += 1\n",
    "        df_array.append([order_id, 0, 0, random.choice(dates), random.randint(1, 100), random_string(500)])\n",
    "\n",
    "    with open('sales.csv', 'a', newline='') as f:\n",
    "        csvwriter = csv.writer(f)\n",
    "        csvwriter.writerows(df_array)\n",
    "\n",
    "    df_array = []\n",
    "    for i in range(0, prod_others):\n",
    "        order_id += 1\n",
    "        df_array.append(\n",
    "            [order_id, random.choice(product_ids), random.choice(seller_ids), random.choice(dates),\n",
    "             random.randint(1, 100), random_string(500)])\n",
    "\n",
    "    with open('sales.csv', 'a', newline='') as f:\n",
    "        csvwriter = csv.writer(f)\n",
    "        csvwriter.writerows(df_array)\n",
    "\n",
    "print(\"Done\")"
   ]
  },
  {
   "cell_type": "code",
   "execution_count": 2,
   "id": "265037a8",
   "metadata": {},
   "outputs": [
    {
     "name": "stdout",
     "output_type": "stream",
     "text": [
      "+----------+------------+-----+\n",
      "|product_id|product_name|price|\n",
      "+----------+------------+-----+\n",
      "|         0|   product_0|   22|\n",
      "|         1|   product_1|   30|\n",
      "|         2|   product_2|   91|\n",
      "|         3|   product_3|   37|\n",
      "|         4|   product_4|  145|\n",
      "|         5|   product_5|  128|\n",
      "|         6|   product_6|   66|\n",
      "|         7|   product_7|  145|\n",
      "|         8|   product_8|   51|\n",
      "|         9|   product_9|   44|\n",
      "|        10|  product_10|   53|\n",
      "|        11|  product_11|   13|\n",
      "|        12|  product_12|  104|\n",
      "|        13|  product_13|  102|\n",
      "|        14|  product_14|   24|\n",
      "|        15|  product_15|   14|\n",
      "|        16|  product_16|   38|\n",
      "|        17|  product_17|   72|\n",
      "|        18|  product_18|   16|\n",
      "|        19|  product_19|   46|\n",
      "+----------+------------+-----+\n",
      "only showing top 20 rows\n",
      "\n",
      "+--------+----------+---------+----------+---------------+--------------------+\n",
      "|order_id|product_id|seller_id|      date|num_pieces_sold|       bill_raw_text|\n",
      "+--------+----------+---------+----------+---------------+--------------------+\n",
      "|       1|         0|        0|2020-07-03|             98|frlnwjcoaxsaubnat...|\n",
      "|       2|         0|        0|2020-07-07|             23|zsnrbwrlflvqqmbcz...|\n",
      "|       3|         0|        0|2020-07-02|             79|gmxnirkafafnohboh...|\n",
      "|       4|         0|        0|2020-07-07|              5|xrgknaskXkfcxcnzj...|\n",
      "|       5|         0|        0|2020-07-10|             79|tzkqoynsqnfomkpbt...|\n",
      "|       6|         0|        0|2020-07-05|             87|qoluiczrckaygkzbi...|\n",
      "|       7|         0|        0|2020-07-08|             14|ivwpwrpuhrjgjdauj...|\n",
      "|       8|         0|        0|2020-07-02|             64|hoalxshwHpqgyvqtm...|\n",
      "|       9|         0|        0|2020-07-02|             45|vysrvsdfvekabcmwo...|\n",
      "|      10|         0|        0|2020-07-05|             16|poiemeiqharpjqkao...|\n",
      "|      11|         0|        0|2020-07-09|              4|badjqluozzjHbbjkv...|\n",
      "|      12|         0|        0|2020-07-02|             58|fdgikecrmegaxfpvO...|\n",
      "|      13|         0|        0|2020-07-02|             56|zhrkbicjlasuqqwsl...|\n",
      "|      14|         0|        0|2020-07-04|             43|sivmclqcgiaspgomj...|\n",
      "|      15|         0|        0|2020-07-05|             39|usobmyZrxjdzdrecl...|\n",
      "|      16|         0|        0|2020-07-04|             79|zxbixfkhmydtewfje...|\n",
      "|      17|         0|        0|2020-07-10|             81|aancisgpjaueusynm...|\n",
      "|      18|         0|        0|2020-07-07|             62|gwkkxzjpdaaaskune...|\n",
      "|      19|         0|        0|2020-07-07|             13|jmltpvkcizhepIwwh...|\n",
      "|      20|         0|        0|2020-07-03|             69|sgicvswximmsqqtuj...|\n",
      "+--------+----------+---------+----------+---------------+--------------------+\n",
      "only showing top 20 rows\n",
      "\n",
      "+---------+-----------+------------+\n",
      "|seller_id|seller_name|daily_target|\n",
      "+---------+-----------+------------+\n",
      "|        0|   seller_0|     2500000|\n",
      "|        1|   seller_1|     1375559|\n",
      "|        2|   seller_2|      205349|\n",
      "|        3|   seller_3|       71546|\n",
      "|        4|   seller_4|     1315668|\n",
      "|        5|   seller_5|      627802|\n",
      "|        6|   seller_6|     1997104|\n",
      "|        7|   seller_7|      593329|\n",
      "|        8|   seller_8|       24388|\n",
      "|        9|   seller_9|      348255|\n",
      "+---------+-----------+------------+\n",
      "\n"
     ]
    }
   ],
   "source": [
    "spark = SparkSession.builder \\\n",
    "    .master(\"local\") \\\n",
    "    .config(\"spark.sql.autoBroadcastJoinThreshold\", -1) \\\n",
    "    .appName(\"Exercise1\") \\\n",
    "    .getOrCreate()\n",
    "\n",
    "products = spark.read.csv(\n",
    "    \"products.csv\", header=True, mode=\"DROPMALFORMED\"\n",
    ")\n",
    "products.show()\n",
    "products.write.parquet(\"products_parquet\", mode=\"overwrite\")\n",
    "\n",
    "sales = spark.read.csv(\n",
    "    \"sales.csv\", header=True, mode=\"DROPMALFORMED\"\n",
    ")\n",
    "sales.show()\n",
    "sales.repartition(200, col(\"product_id\")).write.parquet(\"sales_parquet\", mode=\"overwrite\")\n",
    "\n",
    "sellers = spark.read.csv(\n",
    "    \"sellers.csv\", header=True, mode=\"DROPMALFORMED\"\n",
    ")\n",
    "sellers.show()\n",
    "sellers.write.parquet(\"sellers_parquet\", mode=\"overwrite\")"
   ]
  },
  {
   "cell_type": "markdown",
   "id": "3d2ce270",
   "metadata": {},
   "source": [
    "### ****************************************************************************"
   ]
  },
  {
   "cell_type": "markdown",
   "id": "8d859cee",
   "metadata": {},
   "source": [
    "## Lab"
   ]
  },
  {
   "cell_type": "markdown",
   "id": "5085c98f",
   "metadata": {},
   "source": [
    "## Datasets"
   ]
  },
  {
   "cell_type": "code",
   "execution_count": 3,
   "id": "c66de002",
   "metadata": {},
   "outputs": [],
   "source": [
    "#   Initialize the Spark session\n",
    "spark = SparkSession.builder \\\n",
    "    .master(\"local\") \\\n",
    "    .config(\"spark.sql.autoBroadcastJoinThreshold\", -1) \\\n",
    "    .config(\"spark.executor.memory\", \"500mb\") \\\n",
    "    .appName(\"Exercise1\") \\\n",
    "    .getOrCreate()"
   ]
  },
  {
   "cell_type": "code",
   "execution_count": 6,
   "id": "0a5c0b12",
   "metadata": {},
   "outputs": [],
   "source": [
    "#   Read the source tables in Parquet format\n",
    "products_table = spark.read.parquet(\"./data/products_parquet\")\n",
    "sales_table = spark.read.parquet(\"./data/sales_parquet\")\n",
    "sellers_table = spark.read.parquet(\"./data/sellers_parquet\")"
   ]
  },
  {
   "cell_type": "code",
   "execution_count": 7,
   "id": "2b699a22",
   "metadata": {},
   "outputs": [
    {
     "data": {
      "text/plain": [
       "[Row(product_id='0', product_name='product_0', price='22'),\n",
       " Row(product_id='1', product_name='product_1', price='30'),\n",
       " Row(product_id='2', product_name='product_2', price='91'),\n",
       " Row(product_id='3', product_name='product_3', price='37'),\n",
       " Row(product_id='4', product_name='product_4', price='145')]"
      ]
     },
     "execution_count": 7,
     "metadata": {},
     "output_type": "execute_result"
    }
   ],
   "source": [
    "products_table.head(5)"
   ]
  },
  {
   "cell_type": "code",
   "execution_count": 8,
   "id": "fbad684a",
   "metadata": {},
   "outputs": [
    {
     "data": {
      "text/plain": [
       "['product_id', 'product_name', 'price']"
      ]
     },
     "execution_count": 8,
     "metadata": {},
     "output_type": "execute_result"
    }
   ],
   "source": [
    "products_table.columns"
   ]
  },
  {
   "cell_type": "code",
   "execution_count": 9,
   "id": "309ee2af",
   "metadata": {},
   "outputs": [
    {
     "data": {
      "text/plain": [
       "Row(order_id='1', product_id='0', seller_id='0', date='2020-07-03', num_pieces_sold='98', bill_raw_text='frlnwjcoaxsaubnattnhxdejrexrovharjhomfxchbedwmwwqpkhiwzvmbzbqyowrwmggfwzvqmwnaqeekvdyiumdrhiiaoavtkjfPxpzuhrbupyksvkUsdzhrumxjhhoanlebpohrrvdflpllbgbqelzctqxjgsgzhckzvypjvilodvpbiqjoesstbcbdofpopshstupnyaxktjtnmkqwbgbljqvkmzpganqchuwwpBztdrzyminivqgfzaykvchpfidkpygmwodhhckcsiznwuapiyuhnlktnjmuqxpzmKjcuujivfcuxuyzousufrwozcxwsbgjqqophhxjpgdsztfduzscrkkurfqqkleoazelmgnbgjbmsvkwahbhvfkkpbegxwzmwgyfourqapzoizqhsesrfukcemwkruzrdanycaelgsxiykggkzgcknbuczgplifaggbberhhepzqbcejgurnfrblkpuvgdoadxadvqojnr')"
      ]
     },
     "execution_count": 9,
     "metadata": {},
     "output_type": "execute_result"
    }
   ],
   "source": [
    "sales_table.head()"
   ]
  },
  {
   "cell_type": "code",
   "execution_count": 10,
   "id": "a9443683",
   "metadata": {},
   "outputs": [
    {
     "data": {
      "text/plain": [
       "['order_id',\n",
       " 'product_id',\n",
       " 'seller_id',\n",
       " 'date',\n",
       " 'num_pieces_sold',\n",
       " 'bill_raw_text']"
      ]
     },
     "execution_count": 10,
     "metadata": {},
     "output_type": "execute_result"
    }
   ],
   "source": [
    "sales_table.columns"
   ]
  },
  {
   "cell_type": "code",
   "execution_count": 11,
   "id": "3d483f3b",
   "metadata": {},
   "outputs": [
    {
     "data": {
      "text/plain": [
       "[Row(seller_id='0', seller_name='seller_0', daily_target='2500000'),\n",
       " Row(seller_id='1', seller_name='seller_1', daily_target='1375559'),\n",
       " Row(seller_id='2', seller_name='seller_2', daily_target='205349'),\n",
       " Row(seller_id='3', seller_name='seller_3', daily_target='71546'),\n",
       " Row(seller_id='4', seller_name='seller_4', daily_target='1315668')]"
      ]
     },
     "execution_count": 11,
     "metadata": {},
     "output_type": "execute_result"
    }
   ],
   "source": [
    "sellers_table.head(5)"
   ]
  },
  {
   "cell_type": "code",
   "execution_count": 12,
   "id": "3edd40c2",
   "metadata": {},
   "outputs": [
    {
     "data": {
      "text/plain": [
       "['seller_id', 'seller_name', 'daily_target']"
      ]
     },
     "execution_count": 12,
     "metadata": {},
     "output_type": "execute_result"
    }
   ],
   "source": [
    "sellers_table.columns"
   ]
  },
  {
   "cell_type": "markdown",
   "id": "fc577bfb",
   "metadata": {},
   "source": [
    "## Warm-Up #1\n",
    "Find out how many orders, how many products and how many sellers are in the data.\n",
    "How many products have been sold at least once? Which is the product contained in more orders?"
   ]
  },
  {
   "cell_type": "code",
   "execution_count": 13,
   "id": "eb911f29",
   "metadata": {},
   "outputs": [
    {
     "name": "stdout",
     "output_type": "stream",
     "text": [
      "Number of Orders: 20000040\n"
     ]
    }
   ],
   "source": [
    "#   Print the number of orders\n",
    "print(\"Number of Orders: {}\".format(sales_table.count()))"
   ]
  },
  {
   "cell_type": "code",
   "execution_count": 14,
   "id": "cdd8f389",
   "metadata": {},
   "outputs": [
    {
     "name": "stdout",
     "output_type": "stream",
     "text": [
      "Number of sellers: 10\n"
     ]
    }
   ],
   "source": [
    "#   Print the number of sellers\n",
    "print(\"Number of sellers: {}\".format(sellers_table.count()))"
   ]
  },
  {
   "cell_type": "code",
   "execution_count": 15,
   "id": "05410982",
   "metadata": {},
   "outputs": [
    {
     "name": "stdout",
     "output_type": "stream",
     "text": [
      "Number of products: 75000000\n"
     ]
    }
   ],
   "source": [
    "#   Print the number of products\n",
    "print(\"Number of products: {}\".format(products_table.count()))"
   ]
  },
  {
   "cell_type": "code",
   "execution_count": 16,
   "id": "10e5d30d",
   "metadata": {},
   "outputs": [
    {
     "name": "stdout",
     "output_type": "stream",
     "text": [
      "Number of products sold at least once\n",
      "+--------------------------+\n",
      "|count(DISTINCT product_id)|\n",
      "+--------------------------+\n",
      "|                    993299|\n",
      "+--------------------------+\n",
      "\n"
     ]
    }
   ],
   "source": [
    "#   Output how many products have been actually sold at least once\n",
    "print(\"Number of products sold at least once\")\n",
    "sales_table.agg(countDistinct(col(\"product_id\"))).show()"
   ]
  },
  {
   "cell_type": "code",
   "execution_count": 17,
   "id": "5d5cdbeb",
   "metadata": {},
   "outputs": [
    {
     "name": "stdout",
     "output_type": "stream",
     "text": [
      "Product present in more orders\n",
      "+----------+--------+\n",
      "|product_id|     cnt|\n",
      "+----------+--------+\n",
      "|         0|19000000|\n",
      "+----------+--------+\n",
      "\n"
     ]
    }
   ],
   "source": [
    "#   Output which is the product that has been sold in more orders\n",
    "print(\"Product present in more orders\")\n",
    "sales_table.groupBy(col(\"product_id\")).agg(\n",
    "    count(\"*\").alias(\"cnt\")).orderBy(col(\"cnt\").desc()).limit(1).show()"
   ]
  },
  {
   "cell_type": "markdown",
   "id": "1e3ef1e6",
   "metadata": {},
   "source": [
    "## Warm-Up #2\n",
    "How many distinct products have been sold in each day?"
   ]
  },
  {
   "cell_type": "code",
   "execution_count": 18,
   "id": "6aa1dd85",
   "metadata": {
    "scrolled": true
   },
   "outputs": [
    {
     "name": "stdout",
     "output_type": "stream",
     "text": [
      "+----------+----------------------+\n",
      "|      date|distinct_products_sold|\n",
      "+----------+----------------------+\n",
      "|2020-07-04|                100294|\n",
      "|2020-07-03|                100224|\n",
      "|2020-07-10|                100218|\n",
      "|2020-07-08|                100048|\n",
      "|2020-07-05|                 99991|\n",
      "|2020-07-06|                 99869|\n",
      "|2020-07-09|                 99801|\n",
      "|2020-07-02|                 99768|\n",
      "|2020-07-01|                 99755|\n",
      "|2020-07-07|                 99453|\n",
      "+----------+----------------------+\n",
      "\n"
     ]
    }
   ],
   "source": [
    "sales_table.groupby(col(\"date\")).agg(countDistinct(col(\"product_id\")).alias(\"distinct_products_sold\")).orderBy(\n",
    "    col(\"distinct_products_sold\").desc()).show()"
   ]
  }
 ],
 "metadata": {
  "kernelspec": {
   "display_name": "Python 3 (ipykernel)",
   "language": "python",
   "name": "python3"
  },
  "language_info": {
   "codemirror_mode": {
    "name": "ipython",
    "version": 3
   },
   "file_extension": ".py",
   "mimetype": "text/x-python",
   "name": "python",
   "nbconvert_exporter": "python",
   "pygments_lexer": "ipython3",
   "version": "3.8.5"
  }
 },
 "nbformat": 4,
 "nbformat_minor": 5
}
